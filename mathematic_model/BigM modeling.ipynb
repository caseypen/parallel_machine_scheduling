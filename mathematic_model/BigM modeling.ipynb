{
 "cells": [
  {
   "cell_type": "markdown",
   "metadata": {},
   "source": [
    "## Parallel machine scheduling problem (PMSP) - I\n",
    "### Summary\n",
    "There are M parallel machines and N to-do jobs. Each job is integrated with a release time and process time. The goal is to minimize the total completion time of all jobs; The PMSP can be formulated as below. BigM theory is used to model this problem.\n",
    "\n",
    "### Sets\n",
    "- $\\mathcal{S}_M$ = set of M machines, initialize with machine ids; \n",
    "- $\\mathcal{S}_J$ = set of N jobs, initialize with job ids;\n",
    "- $\\mathcal{S}_{PAIRS}$ = set of machine-job schedules: $M\\times N$ $(i < j)$. \n",
    "\n",
    "### Parameters\n",
    "- $t_r$ = release time of jobs $N\\times1$;\n",
    "- $t_p$ = process time of jobs $N\\times1$; \n",
    "- $t_A$ = available time of machines $M\\times1$\n",
    "\n",
    "### Variables\n",
    "- $N$ number of jobs;\n",
    "- $M$ number of machines;\n",
    "- $t^d_{i}$ start processing time of job $i\\in \\mathcal{S}_J$;\n",
    "- $z_{ik}$: a binary value if job $i$ is scheduled on machine $k$, $N\\times M$;\n",
    "- $y_{ij}$: a binary value if $J_i$ is executed before $J_j$, $\\mathcal{S}_{PAIRS}$; \n",
    "\n",
    "\n",
    "### Objectives\n",
    "- minimize total completion time (same as total start time):\n",
    "    $\\sum_i^N t^d_{i}$\n",
    "\n",
    "\n",
    "### Constraints\n",
    "- release constraint: $t^d_{i}>=t^r_i \\ \\forall i \\in J$ (C1)\n",
    "- One job do once: $\\sum^M_k x_{ki} = 1$ (C2)\n",
    "- Disjunctive constraint:\n",
    "    - $t^d_{j}\\geq t^d_{i} + t^P_i - BigM((1-y_{ij})+(1-z_{jk})+(1-z_{ik})), k\\in M, (i,j) \\in \\mathcal{S}_{PAIRS}$ (C3)\n",
    "    - $t^d_{i}\\geq t^d_{j} + t^P_j - BigM( (y_{ij})+(1-z_{jk})+(1-z_{ik})), k\\in M, (i,j) \\in \\mathcal{S}_{PAIRS}$ (C4)\n",
    "- Consecutive constraint: $y_{ij}+1\\geq y_{il}+y_{lj}, (i,j), (i,l)\\ and\\ (j,l) \\in \\mathcal{S}_{PAIRS}$ (C5)\n",
    "- Machine available constraint:\n",
    "    \n",
    "    - $t^d_j\\geq t^A_k - BigM(1-z_{ik})$\n",
    "    \n",
    "    "
   ]
  },
  {
   "cell_type": "code",
   "execution_count": null,
   "metadata": {},
   "outputs": [],
   "source": []
  }
 ],
 "metadata": {
  "kernelspec": {
   "display_name": "Python [conda env:py36]",
   "language": "python",
   "name": "conda-env-py36-py"
  },
  "language_info": {
   "codemirror_mode": {
    "name": "ipython",
    "version": 3
   },
   "file_extension": ".py",
   "mimetype": "text/x-python",
   "name": "python",
   "nbconvert_exporter": "python",
   "pygments_lexer": "ipython3",
   "version": "3.6.4"
  }
 },
 "nbformat": 4,
 "nbformat_minor": 2
}
